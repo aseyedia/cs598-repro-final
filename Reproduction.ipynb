{
 "cells": [
  {
   "cell_type": "code",
   "execution_count": 1,
   "id": "7d6094ac-2a54-4f8b-86a0-7ac1b73b3672",
   "metadata": {},
   "outputs": [
    {
     "name": "stdout",
     "output_type": "stream",
     "text": [
      "Physical GPUs: [PhysicalDevice(name='/physical_device:GPU:0', device_type='GPU')]\n",
      "CUDA built: True\n"
     ]
    },
    {
     "name": "stderr",
     "output_type": "stream",
     "text": [
      "2025-04-26 18:42:59.673770: I tensorflow/stream_executor/platform/default/dso_loader.cc:44] Successfully opened dynamic library libcuda.so.1\n",
      "2025-04-26 18:42:59.803796: E tensorflow/stream_executor/cuda/cuda_gpu_executor.cc:967] could not open file to read NUMA node: /sys/bus/pci/devices/0000:09:00.0/numa_node\n",
      "Your kernel may have been built without NUMA support.\n",
      "2025-04-26 18:42:59.803861: I tensorflow/core/common_runtime/gpu/gpu_device.cc:1561] Found device 0 with properties: \n",
      "pciBusID: 0000:09:00.0 name: NVIDIA GeForce RTX 3080 computeCapability: 8.6\n",
      "coreClock: 1.785GHz coreCount: 68 deviceMemorySize: 10.00GiB deviceMemoryBandwidth: 707.88GiB/s\n",
      "2025-04-26 18:42:59.804826: I tensorflow/stream_executor/platform/default/dso_loader.cc:44] Successfully opened dynamic library libcudart.so.10.1\n",
      "2025-04-26 18:42:59.815372: I tensorflow/stream_executor/platform/default/dso_loader.cc:44] Successfully opened dynamic library libcublas.so.10\n",
      "2025-04-26 18:42:59.830975: I tensorflow/stream_executor/platform/default/dso_loader.cc:44] Successfully opened dynamic library libcufft.so.10\n",
      "2025-04-26 18:42:59.833453: I tensorflow/stream_executor/platform/default/dso_loader.cc:44] Successfully opened dynamic library libcurand.so.10\n",
      "2025-04-26 18:42:59.847016: I tensorflow/stream_executor/platform/default/dso_loader.cc:44] Successfully opened dynamic library libcusolver.so.10\n",
      "2025-04-26 18:42:59.851018: I tensorflow/stream_executor/platform/default/dso_loader.cc:44] Successfully opened dynamic library libcusparse.so.10\n",
      "2025-04-26 18:42:59.871540: I tensorflow/stream_executor/platform/default/dso_loader.cc:44] Successfully opened dynamic library libcudnn.so.7\n",
      "2025-04-26 18:42:59.871664: E tensorflow/stream_executor/cuda/cuda_gpu_executor.cc:967] could not open file to read NUMA node: /sys/bus/pci/devices/0000:09:00.0/numa_node\n",
      "Your kernel may have been built without NUMA support.\n",
      "2025-04-26 18:42:59.871712: E tensorflow/stream_executor/cuda/cuda_gpu_executor.cc:967] could not open file to read NUMA node: /sys/bus/pci/devices/0000:09:00.0/numa_node\n",
      "Your kernel may have been built without NUMA support.\n",
      "2025-04-26 18:42:59.871723: I tensorflow/core/common_runtime/gpu/gpu_device.cc:1703] Adding visible gpu devices: 0\n"
     ]
    }
   ],
   "source": [
    "import tensorflow as tf\n",
    "\n",
    "print(\"Physical GPUs:\", tf.config.list_physical_devices(\"GPU\"))\n",
    "print(\"CUDA built:\", tf.test.is_built_with_cuda())\n"
   ]
  },
  {
   "cell_type": "code",
   "execution_count": null,
   "id": "886c2164",
   "metadata": {},
   "outputs": [],
   "source": [
    "import sys\n",
    "sys.path.insert(0, 'seizure-detection-neonates')"
   ]
  },
  {
   "cell_type": "code",
   "execution_count": 2,
   "id": "84a3965c",
   "metadata": {},
   "outputs": [
    {
     "name": "stderr",
     "output_type": "stream",
     "text": [
      "Using TensorFlow backend.\n"
     ]
    }
   ],
   "source": [
    "import os\n",
    "import numpy as np\n",
    "import scipy.io as sio\n",
    "from sklearn.metrics import roc_auc_score\n",
    "\n",
    "\n",
    "\n",
    "# assuming you’ve installed the seizure-detection-neonates package\n",
    "from utils import *\n",
    "from models import *\n",
    "\n",
    "# where the authors’ example files live:\n",
    "DATA_DIR = \"preprocessed_feats\"\n",
    "WEIGHTS = \"weights/DL2_Duke_pretrained.model_weights\"  \n",
    "# (downloaded from their Google Drive link)\n",
    "\n",
    "# the three .mat files for subject “eeg1”:\n",
    "FEATS_MAT   = os.path.join(DATA_DIR, \"helsinki_eeg1_feats.mat\")\n",
    "ANN_MAT     = os.path.join(DATA_DIR, \"helsinki_eeg1_cons_chan_annot.mat\")\n"
   ]
  },
  {
   "cell_type": "code",
   "execution_count": 3,
   "id": "1b010dc9",
   "metadata": {
    "scrolled": true
   },
   "outputs": [
    {
     "name": "stdout",
     "output_type": "stream",
     "text": [
      "NaN epochs: 225\n",
      "correct epochs: 1522\n",
      "X: (1522, 18, 256)\n",
      "y: (1522,)\n"
     ]
    }
   ],
   "source": [
    "# 3.1 Load raw features + consensus annotations\n",
    "mat_feats = sio.loadmat(FEATS_MAT)[\"all_feats\"]\n",
    "mat_ann   = sio.loadmat(ANN_MAT)[\"annot\"]   # per‐sample 0/1\n",
    "\n",
    "# 3.2 Turn those into (n_epochs, n_chan, 256) and per-epoch labels\n",
    "X, y_pool, valid_mask = rearrange_epochs(\n",
    "    all_feats   = mat_feats,\n",
    "    annot       = mat_ann,\n",
    "    epoch_type  = 1,       # “256-sample windows” branch\n",
    "    annot_chan  = None,    # only per-epoch labels\n",
    "    n_chan      = 18       # Helsinki montage\n",
    ")\n",
    "\n",
    "print(\"X:\", X.shape)       # → (n_epochs, 18, 256)\n",
    "print(\"y:\", y_pool.shape)  # → (n_epochs,)\n"
   ]
  },
  {
   "cell_type": "code",
   "execution_count": 6,
   "id": "82f64023",
   "metadata": {
    "scrolled": true
   },
   "outputs": [
    {
     "name": "stderr",
     "output_type": "stream",
     "text": [
      "2025-04-26 17:32:30.146355: I tensorflow/core/platform/cpu_feature_guard.cc:143] Your CPU supports instructions that this TensorFlow binary was not compiled to use: AVX2 FMA\n",
      "2025-04-26 17:32:30.156994: I tensorflow/core/platform/profile_utils/cpu_utils.cc:102] CPU Frequency: 3792925000 Hz\n",
      "2025-04-26 17:32:30.163323: I tensorflow/compiler/xla/service/service.cc:168] XLA service 0x7fd244000b70 initialized for platform Host (this does not guarantee that XLA will be used). Devices:\n",
      "2025-04-26 17:32:30.163377: I tensorflow/compiler/xla/service/service.cc:176]   StreamExecutor device (0): Host, Default Version\n",
      "2025-04-26 17:32:30.344683: E tensorflow/stream_executor/cuda/cuda_gpu_executor.cc:967] could not open file to read NUMA node: /sys/bus/pci/devices/0000:09:00.0/numa_node\n",
      "Your kernel may have been built without NUMA support.\n",
      "2025-04-26 17:32:30.344805: I tensorflow/compiler/xla/service/service.cc:168] XLA service 0x442f1940 initialized for platform CUDA (this does not guarantee that XLA will be used). Devices:\n",
      "2025-04-26 17:32:30.344820: I tensorflow/compiler/xla/service/service.cc:176]   StreamExecutor device (0): NVIDIA GeForce RTX 3080, Compute Capability 8.6\n",
      "2025-04-26 17:32:30.344994: E tensorflow/stream_executor/cuda/cuda_gpu_executor.cc:967] could not open file to read NUMA node: /sys/bus/pci/devices/0000:09:00.0/numa_node\n",
      "Your kernel may have been built without NUMA support.\n",
      "2025-04-26 17:32:30.345020: I tensorflow/core/common_runtime/gpu/gpu_device.cc:1561] Found device 0 with properties: \n",
      "pciBusID: 0000:09:00.0 name: NVIDIA GeForce RTX 3080 computeCapability: 8.6\n",
      "coreClock: 1.785GHz coreCount: 68 deviceMemorySize: 10.00GiB deviceMemoryBandwidth: 707.88GiB/s\n",
      "2025-04-26 17:32:30.345097: I tensorflow/stream_executor/platform/default/dso_loader.cc:44] Successfully opened dynamic library libcudart.so.10.1\n",
      "2025-04-26 17:32:30.345119: I tensorflow/stream_executor/platform/default/dso_loader.cc:44] Successfully opened dynamic library libcublas.so.10\n",
      "2025-04-26 17:32:30.345130: I tensorflow/stream_executor/platform/default/dso_loader.cc:44] Successfully opened dynamic library libcufft.so.10\n",
      "2025-04-26 17:32:30.345161: I tensorflow/stream_executor/platform/default/dso_loader.cc:44] Successfully opened dynamic library libcurand.so.10\n",
      "2025-04-26 17:32:30.345181: I tensorflow/stream_executor/platform/default/dso_loader.cc:44] Successfully opened dynamic library libcusolver.so.10\n",
      "2025-04-26 17:32:30.345191: I tensorflow/stream_executor/platform/default/dso_loader.cc:44] Successfully opened dynamic library libcusparse.so.10\n",
      "2025-04-26 17:32:30.345223: I tensorflow/stream_executor/platform/default/dso_loader.cc:44] Successfully opened dynamic library libcudnn.so.7\n",
      "2025-04-26 17:32:30.345274: E tensorflow/stream_executor/cuda/cuda_gpu_executor.cc:967] could not open file to read NUMA node: /sys/bus/pci/devices/0000:09:00.0/numa_node\n",
      "Your kernel may have been built without NUMA support.\n",
      "2025-04-26 17:32:30.345312: E tensorflow/stream_executor/cuda/cuda_gpu_executor.cc:967] could not open file to read NUMA node: /sys/bus/pci/devices/0000:09:00.0/numa_node\n",
      "Your kernel may have been built without NUMA support.\n",
      "2025-04-26 17:32:30.345321: I tensorflow/core/common_runtime/gpu/gpu_device.cc:1703] Adding visible gpu devices: 0\n",
      "2025-04-26 17:32:30.345373: I tensorflow/stream_executor/platform/default/dso_loader.cc:44] Successfully opened dynamic library libcudart.so.10.1\n",
      "2025-04-26 17:32:30.345583: I tensorflow/core/common_runtime/gpu/gpu_device.cc:1102] Device interconnect StreamExecutor with strength 1 edge matrix:\n",
      "2025-04-26 17:32:30.345596: I tensorflow/core/common_runtime/gpu/gpu_device.cc:1108]      0 \n",
      "2025-04-26 17:32:30.345602: I tensorflow/core/common_runtime/gpu/gpu_device.cc:1121] 0:   N \n",
      "2025-04-26 17:32:30.345773: E tensorflow/stream_executor/cuda/cuda_gpu_executor.cc:967] could not open file to read NUMA node: /sys/bus/pci/devices/0000:09:00.0/numa_node\n",
      "Your kernel may have been built without NUMA support.\n",
      "2025-04-26 17:32:30.345786: I tensorflow/core/common_runtime/gpu/gpu_device.cc:1330] Could not identify NUMA node of platform GPU id 0, defaulting to 0.  Your kernel may not have been built with NUMA support.\n",
      "2025-04-26 17:32:30.345830: E tensorflow/stream_executor/cuda/cuda_gpu_executor.cc:967] could not open file to read NUMA node: /sys/bus/pci/devices/0000:09:00.0/numa_node\n",
      "Your kernel may have been built without NUMA support.\n",
      "2025-04-26 17:32:30.345866: I tensorflow/core/common_runtime/gpu/gpu_device.cc:1247] Created TensorFlow device (/job:localhost/replica:0/task:0/device:GPU:0 with 8528 MB memory) -> physical GPU (device: 0, name: NVIDIA GeForce RTX 3080, pci bus id: 0000:09:00.0, compute capability: 8.6)\n"
     ]
    }
   ],
   "source": [
    "# 4.1 reshape y to (n_samples,1)\n",
    "y = y_pool.astype(np.float32).reshape(-1,1)\n",
    "\n",
    "# 4.2 build a fresh model for 18 channels\n",
    "model_helsinki = model_DL2(trainX=X, trainy=y, wd=0.005, lr=1e-3, lr_decay=1e-4)\n",
    "\n",
    "# 4.3 load Duke weights & copy them over\n",
    "#    (we first build a “12-channel” Duke model, then copy into our 18-channel one)\n",
    "from models import model_DL2 as model_duke\n",
    "dummyX = np.zeros((1,12,256), dtype=np.float32)\n",
    "dummyY = np.zeros((1,1),   dtype=np.float32)\n",
    "model12 = model_duke(dummyX, dummyY)\n",
    "model12.load_weights(WEIGHTS)\n",
    "\n",
    "model_helsinki = copy_model(model12, model_helsinki)\n"
   ]
  },
  {
   "cell_type": "code",
   "execution_count": null,
   "id": "6fc227cd",
   "metadata": {},
   "outputs": [],
   "source": [
    "# From paper section 4.2: \"With post-processing the model achieved the average AUC of 0.970 (SD: 0.033)\"\n",
    "def apply_postprocessing(predictions, seizure_prevalence=0.022):\n",
    "    # Probability reweighting (Appendix A.3)\n",
    "    # Convert from balanced (50/50) to true prevalence\n",
    "    adjusted_predictions = predictions * seizure_prevalence / (\n",
    "        predictions * seizure_prevalence + \n",
    "        (1-predictions) * (1-seizure_prevalence)\n",
    "    )\n",
    "    \n",
    "    # Then apply smoothing/collaring (Appendix A.4)\n",
    "    # This typically expands detected seizures by adding context\n",
    "    # Implementation depends on the specific method described in A.4\n",
    "    return adjusted_predictions"
   ]
  },
  {
   "cell_type": "code",
   "execution_count": 8,
   "id": "dcd76360",
   "metadata": {
    "scrolled": true
   },
   "outputs": [
    {
     "name": "stderr",
     "output_type": "stream",
     "text": [
      "2025-04-26 17:33:22.349409: I tensorflow/stream_executor/platform/default/dso_loader.cc:44] Successfully opened dynamic library libcublas.so.10\n",
      "2025-04-26 17:33:22.902186: I tensorflow/stream_executor/platform/default/dso_loader.cc:44] Successfully opened dynamic library libcudnn.so.7\n",
      "2025-04-26 17:41:26.363826: W tensorflow/stream_executor/gpu/asm_compiler.cc:81] Running ptxas --version returned 256\n",
      "2025-04-26 17:41:26.429022: W tensorflow/stream_executor/gpu/redzone_allocator.cc:314] Internal: ptxas exited with non-zero error code 256, output: \n",
      "Relying on driver to perform ptx compilation. \n",
      "Modify $PATH to customize ptxas location.\n",
      "This message will be only logged once.\n"
     ]
    },
    {
     "name": "stdout",
     "output_type": "stream",
     "text": [
      "1522/1522 [==============================] - 509s 335ms/step\n"
     ]
    }
   ],
   "source": [
    "# predict\n",
    "y_hat = model_helsinki.predict(X, batch_size=256, verbose = 1)\n",
    "\n"
   ]
  },
  {
   "cell_type": "code",
   "execution_count": 9,
   "id": "5ac2a70e",
   "metadata": {},
   "outputs": [
    {
     "name": "stdout",
     "output_type": "stream",
     "text": [
      "[[0.78960085]\n",
      " [0.79565537]\n",
      " [0.7817169 ]\n",
      " ...\n",
      " [0.7727858 ]\n",
      " [1.        ]\n",
      " [1.        ]]\n"
     ]
    }
   ],
   "source": [
    "print(y_hat)"
   ]
  },
  {
   "cell_type": "code",
   "execution_count": null,
   "id": "ddce4bf8",
   "metadata": {},
   "outputs": [],
   "source": [
    "y_hat2 = apply_postprocessing(y_hat)"
   ]
  },
  {
   "cell_type": "code",
   "execution_count": 10,
   "id": "58be007a",
   "metadata": {},
   "outputs": [
    {
     "name": "stdout",
     "output_type": "stream",
     "text": [
      "eeg1 AUC = 0.4530\n"
     ]
    }
   ],
   "source": [
    "y_hat_ravel = y_hat.ravel()\n",
    "\n",
    "# compute AUC\n",
    "auc1 = roc_auc_score(y_pool, y_hat)\n",
    "print(f\"eeg1 AUC = {auc1:.4f}\")"
   ]
  },
  {
   "cell_type": "code",
   "execution_count": 12,
   "id": "4ae87aae",
   "metadata": {},
   "outputs": [],
   "source": [
    "post = apply_postprocessing(y_hat)"
   ]
  },
  {
   "cell_type": "code",
   "execution_count": 13,
   "id": "97a8638d",
   "metadata": {
    "scrolled": true
   },
   "outputs": [
    {
     "name": "stdout",
     "output_type": "stream",
     "text": [
      "[0.07784841 0.08053434 0.07455293 ... 0.07107063 1.         1.        ]\n"
     ]
    }
   ],
   "source": [
    "print(post)"
   ]
  },
  {
   "cell_type": "code",
   "execution_count": 14,
   "id": "01568793",
   "metadata": {},
   "outputs": [
    {
     "name": "stdout",
     "output_type": "stream",
     "text": [
      "eeg1 AUC = 0.4530\n"
     ]
    }
   ],
   "source": [
    "auc1 = roc_auc_score(y_pool, post)\n",
    "print(f\"eeg1 AUC = {auc1:.4f}\")"
   ]
  }
 ],
 "metadata": {
  "kernelspec": {
   "display_name": "Python 3 (ipykernel)",
   "language": "python",
   "name": "python3"
  },
  "language_info": {
   "codemirror_mode": {
    "name": "ipython",
    "version": 3
   },
   "file_extension": ".py",
   "mimetype": "text/x-python",
   "name": "python",
   "nbconvert_exporter": "python",
   "pygments_lexer": "ipython3",
   "version": "3.7.16"
  }
 },
 "nbformat": 4,
 "nbformat_minor": 5
}
